{
 "cells": [
  {
   "cell_type": "markdown",
   "metadata": {},
   "source": [
    "# Usage example on notMNIST\n",
    "\n",
    "### First download the dataset from http://yaroslavvb.com/upload/notMNIST/notMNIST_small.mat\n",
    "\n",
    "- [ ] MLD issue \"post AKNN\" contains more margin experiments to run"
   ]
  },
  {
   "cell_type": "code",
   "execution_count": 1,
   "metadata": {},
   "outputs": [],
   "source": [
    "import numpy as np, scipy as sp, time, scipy.io, sklearn\n",
    "import aknn_alg\n",
    "\n",
    "notMNIST_small = scipy.io.loadmat(\"notMNIST_small.mat\")['images'].reshape(784, 18724)\n",
    "nmn = (notMNIST_small.T - 255.0/2)/255.0\n",
    "labels = scipy.io.loadmat(\"notMNIST_small.mat\")['labels'].astype(int)\n",
    "labels_to_symbols = { 0: 'A', 1: 'B', 2: 'C', 3: 'D', 4: 'E', 5: 'F', 6: 'G', 7: 'H', 8: 'I', 9: 'J' }\n",
    "labels = np.array([labels_to_symbols[x] for x in labels])"
   ]
  },
  {
   "cell_type": "code",
   "execution_count": 2,
   "metadata": {},
   "outputs": [
    {
     "name": "stdout",
     "output_type": "stream",
     "text": [
      "Neighbor indices computed. Time:\t 8.706866025924683\n"
     ]
    }
   ],
   "source": [
    "import importlib\n",
    "importlib.reload(aknn_alg)\n",
    "\n",
    "# Calculate list of exact Euclidean nearest neighbors for each point - use more neighbors for less abstaining at a given parameter setting.\n",
    "itime = time.time()\n",
    "nbrs_list = aknn_alg.calc_nbrs_exact(nmn, k=1000, use_nndescent=False)\n",
    "print('Neighbor indices computed. Time:\\t {}'.format(time.time() - itime))"
   ]
  },
  {
   "cell_type": "code",
   "execution_count": null,
   "metadata": {},
   "outputs": [
    {
     "name": "stdout",
     "output_type": "stream",
     "text": [
      "CPU times: user 1.77 s, sys: 453 ms, total: 2.23 s\n",
      "Wall time: 1.66 s\n"
     ]
    },
    {
     "data": {
      "text/plain": [
       "True"
      ]
     },
     "execution_count": 16,
     "metadata": {},
     "output_type": "execute_result"
    }
   ],
   "source": [
    "\"\"\"\n",
    "# Using the Annoy package\n",
    "\n",
    "%%time\n",
    "\n",
    "#a = calc_nbrs_pynndescent(raw_data)\n",
    "from annoy import AnnoyIndex\n",
    "\n",
    "import random\n",
    "\n",
    "dim = nmn.shape[1]\n",
    "t = AnnoyIndex(dim, 'euclidean')  # Length of item vector that will be indexed\n",
    "\n",
    "for i in range(nmn.shape[0]):\n",
    "    t.add_item(i, nmn[i, :])\n",
    "\n",
    "t.build(10) # 10 trees\n",
    "t.save('test.ann')\n",
    "\n",
    "u = AnnoyIndex(dim, 'euclidean')\n",
    "u.load('test.ann') # super fast, will just mmap the file\n",
    "\n",
    "results = []\n",
    "for i in range(nmn.shape[0]):\n",
    "    results.append(u.get_nns_by_item(i, 1000)) # will find the 1000 nearest neighbors\n",
    "\n",
    "np.array(results)[:, 1:]    # compare with nbrs_list\n",
    "\"\"\""
   ]
  },
  {
   "cell_type": "markdown",
   "metadata": {},
   "source": [
    "## Make AKNN predictions"
   ]
  },
  {
   "cell_type": "code",
   "execution_count": 3,
   "metadata": {},
   "outputs": [
    {
     "name": "stdout",
     "output_type": "stream",
     "text": [
      "AKNN predictions made. Time:\t 3.185471296310425\n"
     ]
    }
   ],
   "source": [
    "itime = time.time()\n",
    "aknn_predictions = aknn_alg.predict_nn_rule(nbrs_list, labels)\n",
    "print('AKNN predictions made. Time:\\t {}'.format(time.time() - itime))"
   ]
  },
  {
   "cell_type": "code",
   "execution_count": 5,
   "metadata": {},
   "outputs": [],
   "source": [
    "import importlib\n",
    "importlib.reload(aknn_alg)\n",
    "\n",
    "ref_data = nmn\n",
    "margin = 1.0\n",
    "query_data = None\n",
    "max_k = 1000\n",
    "\n",
    "# itime = time.time()\n",
    "if query_data is None:\n",
    "    query_data = ref_data\n",
    "nbrs = sklearn.neighbors.NearestNeighbors(n_neighbors=max_k).fit(ref_data)\n",
    "distances, indices = nbrs.kneighbors(query_data)\n",
    "distinct_labels = np.unique(labels)\n",
    "rngarr = np.arange(indices.shape[1])+1\n",
    "query_nbrs = labels[indices]\n",
    "fracs_labels = [np.cumsum(query_nbrs == i, axis=1)/rngarr for i in distinct_labels]\n",
    "# print(\"Clustering computed. Time: {}\".format(time.time() - itime))\n",
    "thresholds = margin/np.sqrt(np.arange(indices.shape[1]) + 1)\n",
    "numlabels_predicted = np.add.reduce([f > (thresholds + 1.0/len(distinct_labels)) for f in fracs_labels])\n",
    "adaptive_k = np.argmax(numlabels_predicted > 0, axis=1)\n",
    "\n",
    "# pred_labels = np.zeros(fracs_labels[0].shape[0]).astype(str)\n",
    "# for i in range(fracs_labels[0].shape[0]):\n",
    "#     if adaptive_k[i] == 0:\n",
    "#         pred_labels[i] = '?'\n",
    "#     else:\n",
    "#         lst = [f[i, adaptive_k[i]] for f in fracs_labels]\n",
    "#         pred_labels[i] = distinct_labels[np.argmax(lst)]"
   ]
  },
  {
   "cell_type": "code",
   "execution_count": 38,
   "metadata": {},
   "outputs": [
    {
     "name": "stdout",
     "output_type": "stream",
     "text": [
      "AKNN predictions made. Time:\t 12.703313827514648\n"
     ]
    }
   ],
   "source": [
    "itime = time.time()\n",
    "aknn_predictions_new = aknn_alg.aknn_predict(nmn, labels, max_k=1000)\n",
    "print('AKNN predictions made. Time:\\t {}'.format(time.time() - itime))"
   ]
  },
  {
   "cell_type": "code",
   "execution_count": 43,
   "metadata": {},
   "outputs": [
    {
     "data": {
      "text/plain": [
       "0.9654988250373852"
      ]
     },
     "execution_count": 43,
     "metadata": {},
     "output_type": "execute_result"
    }
   ],
   "source": [
    "np.mean(aknn_predictions[0] == aknn_predictions_new[0])"
   ]
  },
  {
   "cell_type": "markdown",
   "metadata": {},
   "source": [
    "## Comparison with k-NN"
   ]
  },
  {
   "cell_type": "code",
   "execution_count": 7,
   "metadata": {},
   "outputs": [
    {
     "name": "stdout",
     "output_type": "stream",
     "text": [
      "3-NN accuracy: \t\t0.8750267036957915\n",
      "AKNN accuracy (k <= 3): \t0.9701739850869926 \t\t Coverage: \t0.838015381328776\n",
      "\n",
      "5-NN accuracy: \t\t0.8833048493911557\n",
      "AKNN accuracy (k <= 5): \t0.9450811565536099 \t\t Coverage: \t0.9180196539201025\n",
      "\n",
      "7-NN accuracy: \t\t0.8836787011322367\n",
      "AKNN accuracy (k <= 7): \t0.9408167974157822 \t\t Coverage: \t0.9258705404828028\n",
      "\n",
      "8-NN accuracy: \t\t0.8834650715659047\n",
      "AKNN accuracy (k <= 8): \t0.9362406530053086 \t\t Coverage: \t0.935644093142491\n",
      "\n",
      "10-NN accuracy: \t\t0.8822901089510788\n",
      "AKNN accuracy (k <= 10): \t0.9322341209133662 \t\t Coverage: \t0.9425870540482802\n",
      "\n",
      "30-NN accuracy: \t\t0.8767891476180303\n",
      "AKNN accuracy (k <= 30): \t0.9158672400485169 \t\t Coverage: \t0.9687032685323649\n",
      "\n",
      "100-NN accuracy: \t\t0.858577227088229\n",
      "AKNN accuracy (k <= 100): \t0.9071918180829072 \t\t Coverage: \t0.9817346720786156\n",
      "\n",
      "Overall AKNN accuracy: 0.8925977355265969\n"
     ]
    }
   ],
   "source": [
    "kvals = [3,5,7,8,10,30,100]\n",
    "for i in range(len(kvals)):\n",
    "    knn_predictions = aknn_alg.knn_rule(nbrs_list, labels, k=kvals[i])\n",
    "    aknn_cov_ndces = aknn_predictions[1] <= kvals[i]\n",
    "    aknn_cov = np.mean(aknn_cov_ndces)\n",
    "    aknn_condacc = np.mean((aknn_predictions[0] == labels)[aknn_cov_ndces])\n",
    "    print('{}-NN accuracy: \\t\\t{}'.format(kvals[i], np.mean(knn_predictions == labels)))\n",
    "    print('AKNN accuracy (k <= {}): \\t{} \\t\\t Coverage: \\t{}\\n'.format(\n",
    "        kvals[i], aknn_condacc, aknn_cov))\n",
    "print('Overall AKNN accuracy: {}'.format(np.mean(aknn_predictions[0] == labels)))"
   ]
  },
  {
   "cell_type": "code",
   "execution_count": null,
   "metadata": {},
   "outputs": [],
   "source": []
  }
 ],
 "metadata": {
  "kernelspec": {
   "display_name": "Python 3",
   "language": "python",
   "name": "python3"
  },
  "language_info": {
   "codemirror_mode": {
    "name": "ipython",
    "version": 3
   },
   "file_extension": ".py",
   "mimetype": "text/x-python",
   "name": "python",
   "nbconvert_exporter": "python",
   "pygments_lexer": "ipython3",
   "version": "3.8.5"
  }
 },
 "nbformat": 4,
 "nbformat_minor": 4
}
