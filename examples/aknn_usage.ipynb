{
 "cells": [
  {
   "cell_type": "markdown",
   "metadata": {},
   "source": [
    "# Usage example on notMNIST\n",
    "\n",
    "### First download the dataset from http://yaroslavvb.com/upload/notMNIST/notMNIST_small.mat"
   ]
  },
  {
   "cell_type": "code",
   "execution_count": 1,
   "metadata": {},
   "outputs": [],
   "source": [
    "import numpy as np, scipy as sp, time, scipy.io, sklearn\n",
    "import aknn_alg\n",
    "\n",
    "notMNIST_small = scipy.io.loadmat(\"notMNIST_small.mat\")['images'].reshape(784, 18724)\n",
    "nmn = (notMNIST_small.T - 255.0/2)/255.0\n",
    "labels = scipy.io.loadmat(\"notMNIST_small.mat\")['labels'].astype(int)\n",
    "labels_to_symbols = { 0: 'A', 1: 'B', 2: 'C', 3: 'D', 4: 'E', 5: 'F', 6: 'G', 7: 'H', 8: 'I', 9: 'J' }\n",
    "labels = np.array([labels_to_symbols[x] for x in labels])"
   ]
  },
  {
   "cell_type": "code",
   "execution_count": 2,
   "metadata": {},
   "outputs": [
    {
     "name": "stdout",
     "output_type": "stream",
     "text": [
      "Neighbor indices computed. Time:\t 9.087002992630005\n"
     ]
    }
   ],
   "source": [
    "import importlib\n",
    "importlib.reload(aknn_alg)\n",
    "\n",
    "# Calculate list of exact Euclidean nearest neighbors for each point - use more neighbors for less abstaining at a given parameter setting.\n",
    "itime = time.time()\n",
    "nbrs_list = aknn_alg._calc_nbrs_exact(nmn, k=1000, use_nndescent=False)\n",
    "print('Neighbor indices computed. Time:\\t {}'.format(time.time() - itime))"
   ]
  },
  {
   "cell_type": "code",
   "execution_count": 9,
   "metadata": {},
   "outputs": [],
   "source": [
    "import importlib\n",
    "importlib.reload(aknn_alg)\n",
    "\n",
    "ref_data = nmn\n",
    "margin = 1.0\n",
    "query_data = None\n",
    "max_k = 1000"
   ]
  },
  {
   "cell_type": "markdown",
   "metadata": {},
   "source": [
    "## Make AKNN predictions"
   ]
  },
  {
   "cell_type": "code",
   "execution_count": 7,
   "metadata": {},
   "outputs": [
    {
     "name": "stdout",
     "output_type": "stream",
     "text": [
      "AKNN predictions made. Time:\t 3.1767020225524902\n"
     ]
    }
   ],
   "source": [
    "itime = time.time()\n",
    "aknn_predictions = aknn_alg.predict_nn_rule(nbrs_list, labels)\n",
    "print('AKNN predictions made. Time:\\t {}'.format(time.time() - itime))"
   ]
  },
  {
   "cell_type": "code",
   "execution_count": 10,
   "metadata": {},
   "outputs": [
    {
     "name": "stdout",
     "output_type": "stream",
     "text": [
      "Neighbor indices computed. Time:\t 9.21240496635437\n",
      "AKNN predictions made. Time:\t 12.64634394645691\n",
      "AKNN predictions made. Time:\t 12.653649091720581\n"
     ]
    }
   ],
   "source": [
    "aknn_predictions_new = aknn_alg.aknn_predict(\n",
    "    ref_data, \n",
    "    labels, \n",
    "    margin=1.0, \n",
    "    query_data=None, \n",
    "    max_k=1000, \n",
    "    use_nndescent=False\n",
    ")\n"
   ]
  },
  {
   "cell_type": "markdown",
   "metadata": {},
   "source": [
    "## Comparison with k-NN"
   ]
  },
  {
   "cell_type": "code",
   "execution_count": 11,
   "metadata": {},
   "outputs": [
    {
     "name": "stdout",
     "output_type": "stream",
     "text": [
      "3-NN accuracy: \t\t0.8750267036957915\n",
      "AKNN accuracy (k <= 3): \t0.9701739850869926 \t\t Coverage: \t0.838015381328776\n",
      "\n",
      "5-NN accuracy: \t\t0.8833048493911557\n",
      "AKNN accuracy (k <= 5): \t0.9450811565536099 \t\t Coverage: \t0.9180196539201025\n",
      "\n",
      "7-NN accuracy: \t\t0.8836787011322367\n",
      "AKNN accuracy (k <= 7): \t0.9408167974157822 \t\t Coverage: \t0.9258705404828028\n",
      "\n",
      "8-NN accuracy: \t\t0.8834650715659047\n",
      "AKNN accuracy (k <= 8): \t0.9362406530053086 \t\t Coverage: \t0.935644093142491\n",
      "\n",
      "10-NN accuracy: \t\t0.8822901089510788\n",
      "AKNN accuracy (k <= 10): \t0.9322341209133662 \t\t Coverage: \t0.9425870540482802\n",
      "\n",
      "30-NN accuracy: \t\t0.8767891476180303\n",
      "AKNN accuracy (k <= 30): \t0.9158672400485169 \t\t Coverage: \t0.9687032685323649\n",
      "\n",
      "100-NN accuracy: \t\t0.858577227088229\n",
      "AKNN accuracy (k <= 100): \t0.9071918180829072 \t\t Coverage: \t0.9817346720786156\n",
      "\n",
      "Overall AKNN accuracy: 0.8925977355265969\n"
     ]
    }
   ],
   "source": [
    "kvals = [3,5,7,8,10,30,100]\n",
    "for i in range(len(kvals)):\n",
    "    knn_predictions = aknn_alg.knn_rule(nbrs_list, labels, k=kvals[i])\n",
    "    aknn_cov_ndces = aknn_predictions[1] <= kvals[i]\n",
    "    aknn_cov = np.mean(aknn_cov_ndces)\n",
    "    aknn_condacc = np.mean((aknn_predictions[0] == labels)[aknn_cov_ndces])\n",
    "    print('{}-NN accuracy: \\t\\t{}'.format(kvals[i], np.mean(knn_predictions == labels)))\n",
    "    print('AKNN accuracy (k <= {}): \\t{} \\t\\t Coverage: \\t{}\\n'.format(\n",
    "        kvals[i], aknn_condacc, aknn_cov))\n",
    "print('Overall AKNN accuracy: {}'.format(np.mean(aknn_predictions[0] == labels)))"
   ]
  },
  {
   "cell_type": "code",
   "execution_count": 12,
   "metadata": {},
   "outputs": [
    {
     "name": "stdout",
     "output_type": "stream",
     "text": [
      "3-NN accuracy: \t\t0.8750267036957915\n",
      "AKNN accuracy (k <= 3): \t0.9701739850869926 \t\t Coverage: \t0.838015381328776\n",
      "\n",
      "5-NN accuracy: \t\t0.8833048493911557\n",
      "AKNN accuracy (k <= 5): \t0.9450811565536099 \t\t Coverage: \t0.9180196539201025\n",
      "\n",
      "7-NN accuracy: \t\t0.8836787011322367\n",
      "AKNN accuracy (k <= 7): \t0.9408167974157822 \t\t Coverage: \t0.9258705404828028\n",
      "\n",
      "8-NN accuracy: \t\t0.8834650715659047\n",
      "AKNN accuracy (k <= 8): \t0.9362406530053086 \t\t Coverage: \t0.935644093142491\n",
      "\n",
      "10-NN accuracy: \t\t0.8822901089510788\n",
      "AKNN accuracy (k <= 10): \t0.9322341209133662 \t\t Coverage: \t0.9425870540482802\n",
      "\n",
      "30-NN accuracy: \t\t0.8767891476180303\n",
      "AKNN accuracy (k <= 30): \t0.9158672400485169 \t\t Coverage: \t0.9687032685323649\n",
      "\n",
      "100-NN accuracy: \t\t0.858577227088229\n",
      "AKNN accuracy (k <= 100): \t0.9071918180829072 \t\t Coverage: \t0.9817346720786156\n",
      "\n",
      "Overall AKNN accuracy: 0.8925977355265969\n"
     ]
    }
   ],
   "source": [
    "kvals = [3,5,7,8,10,30,100]\n",
    "for i in range(len(kvals)):\n",
    "    knn_predictions = aknn_alg.knn_rule(nbrs_list, labels, k=kvals[i])\n",
    "    aknn_cov_ndces = aknn_predictions_new[1] <= kvals[i]\n",
    "    aknn_cov = np.mean(aknn_cov_ndces)\n",
    "    aknn_condacc = np.mean((aknn_predictions_new[0] == labels)[aknn_cov_ndces])\n",
    "    print('{}-NN accuracy: \\t\\t{}'.format(kvals[i], np.mean(knn_predictions == labels)))\n",
    "    print('AKNN accuracy (k <= {}): \\t{} \\t\\t Coverage: \\t{}\\n'.format(\n",
    "        kvals[i], aknn_condacc, aknn_cov))\n",
    "print('Overall AKNN accuracy: {}'.format(np.mean(aknn_predictions_new[0] == labels)))"
   ]
  },
  {
   "cell_type": "code",
   "execution_count": 77,
   "metadata": {},
   "outputs": [
    {
     "data": {
      "text/plain": [
       "array([0, 0, 0])"
      ]
     },
     "execution_count": 77,
     "metadata": {},
     "output_type": "execute_result"
    }
   ],
   "source": [
    "aknn_predictions_new[1][aknn_predictions[1] != aknn_predictions_new[1]+1]"
   ]
  },
  {
   "cell_type": "code",
   "execution_count": null,
   "metadata": {},
   "outputs": [],
   "source": []
  }
 ],
 "metadata": {
  "kernelspec": {
   "display_name": "Python 3",
   "language": "python",
   "name": "python3"
  },
  "language_info": {
   "codemirror_mode": {
    "name": "ipython",
    "version": 3
   },
   "file_extension": ".py",
   "mimetype": "text/x-python",
   "name": "python",
   "nbconvert_exporter": "python",
   "pygments_lexer": "ipython3",
   "version": "3.8.5"
  }
 },
 "nbformat": 4,
 "nbformat_minor": 4
}
